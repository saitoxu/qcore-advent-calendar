{
 "cells": [
  {
   "cell_type": "code",
   "execution_count": 1,
   "metadata": {},
   "outputs": [],
   "source": [
    "import matplotlib.pyplot as plt\n",
    "from imblearn.datasets import make_imbalance\n",
    "from sklearn.metrics import classification_report\n",
    "import numpy as np\n",
    "from scipy.io import arff\n",
    "\n",
    "from qore_sdk.utils import sliding_window\n",
    "from qore_sdk.featurizer import Featurizer\n",
    "from qore_sdk.client import WebQoreClient\n",
    "\n",
    "from dataloader import load_dataset\n",
    "\n",
    "# 取得したアカウント情報の読み込み\n",
    "from credentials import username, password, endpoint\n",
    "\n",
    "%matplotlib inline"
   ]
  },
  {
   "cell_type": "code",
   "execution_count": 31,
   "metadata": {},
   "outputs": [],
   "source": [
    "# ref. http://timeseriesclassification.com/description.php?Dataset=SmallKitchenAppliances\n",
    "dataset_train, meta_train = arff.loadarff(\"dataset/SmallKitchenAppliances_TRAIN.arff\")\n",
    "dataset_test, meta_test = arff.loadarff(\"dataset/SmallKitchenAppliances_TEST.arff\")"
   ]
  },
  {
   "cell_type": "code",
   "execution_count": 153,
   "metadata": {},
   "outputs": [
    {
     "name": "stdout",
     "output_type": "stream",
     "text": [
      "(375, 720)\n",
      "(375, 720)\n",
      "(375,)\n",
      "(375,)\n"
     ]
    }
   ],
   "source": [
    "# Kettle, Microwave and Toaster\n",
    "ds_train = np.asarray(dataset_train.tolist(), dtype=np.float32)\n",
    "ds_test = np.asarray(dataset_test.tolist(), dtype=np.float32)\n",
    "X_train = ds_train[:, 0:-1]\n",
    "X_test = ds_test[:, 0:-1]\n",
    "y_train = ds_train[:, -1]\n",
    "y_test = ds_test[:, -1]\n",
    "print(X_train.shape)\n",
    "print(X_test.shape)\n",
    "print(y_train.shape)\n",
    "print(y_test.shape)\n",
    "# print(ds[:, -1])\n",
    "# i = 1\n",
    "# plt.ylim(ymin=-0.07715, ymax=-0.078) \n",
    "# print(ds[i][0:-1])\n",
    "# plt.plot(ds[i][0:-1])\n",
    "# print(ds[i][-1])"
   ]
  },
  {
   "cell_type": "code",
   "execution_count": 154,
   "metadata": {},
   "outputs": [],
   "source": [
    "# 前処理\n",
    "# 正規化とか標準化してみるか\n",
    "# ref. https://qiita.com/ttskng/items/2a33c1ca925e4501e609\n",
    "# plt.yscale('log')\n",
    "# plt.plot((X_train[i] + 1) / X_train[i])\n",
    "X_train = X_train + 1\n",
    "X_test = X_test + 1"
   ]
  },
  {
   "cell_type": "code",
   "execution_count": 155,
   "metadata": {},
   "outputs": [
    {
     "name": "stdout",
     "output_type": "stream",
     "text": [
      "X_train2.shape: (375, 289, 144)\n",
      "X_test2.shape: (375, 289, 144)\n",
      "(375, 289, 10) (375, 289, 10)\n"
     ]
    }
   ],
   "source": [
    "width = 144\n",
    "stepsize = 2\n",
    "n_filters = 10\n",
    "\n",
    "# ここで(サンプル数, 時系列長, 小時系列長)の配列を作成\n",
    "X_train2 = sliding_window(X_train, width, stepsize)\n",
    "X_test2 = sliding_window(X_test, width, stepsize)\n",
    "print('X_train2.shape:', X_train2.shape)\n",
    "print('X_test2.shape:', X_test2.shape)\n",
    "\n",
    "# (サンプル数, 時系列長, 変量数)の配列に変換(Qoreへの入力となる)\n",
    "featurizer = Featurizer(n_filters)\n",
    "X_train2 = featurizer.featurize(X_train2, axis=2)\n",
    "X_test2 = featurizer.featurize(X_test2, axis=2)\n",
    "print(X_train2.shape, X_test2.shape)"
   ]
  },
  {
   "cell_type": "code",
   "execution_count": 156,
   "metadata": {},
   "outputs": [
    {
     "name": "stdout",
     "output_type": "stream",
     "text": [
      "Time:. {'res': 'ok', 'train_time': 7.7187535762786865} min.\n"
     ]
    }
   ],
   "source": [
    "# 学習\n",
    "client = WebQoreClient(username, password, endpoint=endpoint)\n",
    "time_ = client.classifier_train(X_train2, y_train)\n",
    "print('Time:.', time_, 'min.')"
   ]
  },
  {
   "cell_type": "code",
   "execution_count": 157,
   "metadata": {},
   "outputs": [],
   "source": [
    "# 予測\n",
    "res = client.classifier_predict(X_test2)"
   ]
  },
  {
   "cell_type": "code",
   "execution_count": 158,
   "metadata": {},
   "outputs": [
    {
     "name": "stdout",
     "output_type": "stream",
     "text": [
      "              precision    recall  f1-score   support\n",
      "\n",
      "         1.0       0.82      0.82      0.82       125\n",
      "         2.0       0.78      0.72      0.75       125\n",
      "         3.0       0.71      0.77      0.74       125\n",
      "\n",
      "    accuracy                           0.77       375\n",
      "   macro avg       0.77      0.77      0.77       375\n",
      "weighted avg       0.77      0.77      0.77       375\n",
      "\n"
     ]
    }
   ],
   "source": [
    "# 評価\n",
    "report = classification_report(y_test, res['Y'])\n",
    "print(report)"
   ]
  },
  {
   "cell_type": "code",
   "execution_count": null,
   "metadata": {},
   "outputs": [],
   "source": []
  }
 ],
 "metadata": {
  "kernelspec": {
   "display_name": "Python 3",
   "language": "python",
   "name": "python3"
  },
  "language_info": {
   "codemirror_mode": {
    "name": "ipython",
    "version": 3
   },
   "file_extension": ".py",
   "mimetype": "text/x-python",
   "name": "python",
   "nbconvert_exporter": "python",
   "pygments_lexer": "ipython3",
   "version": "3.7.3"
  }
 },
 "nbformat": 4,
 "nbformat_minor": 2
}
