{
 "cells": [
  {
   "cell_type": "code",
   "execution_count": 2,
   "metadata": {},
   "outputs": [],
   "source": [
    "import matplotlib.pyplot as plt\n",
    "from imblearn.datasets import make_imbalance\n",
    "from sklearn.metrics import classification_report\n",
    "import numpy as np\n",
    "from scipy.io import arff\n",
    "\n",
    "from qore_sdk.utils import sliding_window\n",
    "from qore_sdk.featurizer import Featurizer\n",
    "from qore_sdk.client import WebQoreClient\n",
    "\n",
    "from dataloader import load_dataset\n",
    "\n",
    "# 取得したアカウント情報の読み込み\n",
    "from credentials import username, password, endpoint\n",
    "\n",
    "%matplotlib inline"
   ]
  },
  {
   "cell_type": "code",
   "execution_count": 12,
   "metadata": {},
   "outputs": [
    {
     "name": "stdout",
     "output_type": "stream",
     "text": [
      "(1500, 400)\n",
      "(1100, 400)\n",
      "X_train.shape: (1500, 38, 100)\n",
      "X_test.shape: (1100, 38, 100)\n",
      "(1500, 38, 8) (1100, 38, 8)\n"
     ]
    }
   ],
   "source": [
    "t_length = 3000\n",
    "t_width = 400\n",
    "\n",
    "train_x = np.arange(t_length)\n",
    "# ただの直線\n",
    "train_y = np.array(train_x)\n",
    "x = []\n",
    "y = []\n",
    "for i in range(len(train_x) - t_width):\n",
    "    x.append(train_y[i:i + t_width])\n",
    "    y.append(train_y[i + t_width])\n",
    "\n",
    "x = np.array(x)\n",
    "y = np.array(y)\n",
    "# print(x.shape)\n",
    "# print(y.shape)\n",
    "\n",
    "X_train = x[0:(t_length // 2)]\n",
    "X_test = x[(t_length // 2):]\n",
    "y_train = y[0:(t_length // 2)]\n",
    "y_test = y[(t_length // 2):]\n",
    "\n",
    "print(X_train.shape)\n",
    "print(X_test.shape)\n",
    "\n",
    "width = 100\n",
    "stepsize = 8\n",
    "n_filters = 8\n",
    "\n",
    "# ここで(サンプル数, 時系列長, 小時系列長)の配列を作成\n",
    "X_train2 = sliding_window(X_train, width, stepsize)\n",
    "X_test2 = sliding_window(X_test, width, stepsize)\n",
    "print('X_train.shape:', X_train2.shape)\n",
    "print('X_test.shape:', X_test2.shape)\n",
    "\n",
    "# (サンプル数, 時系列長, 変量数)の配列に変換(Qoreへの入力となる)\n",
    "featurizer = Featurizer(n_filters)\n",
    "X_train2 = featurizer.featurize(X_train2, axis=2)\n",
    "X_test2 = featurizer.featurize(X_test2, axis=2)\n",
    "print(X_train2.shape, X_test2.shape)"
   ]
  },
  {
   "cell_type": "code",
   "execution_count": 18,
   "metadata": {},
   "outputs": [
    {
     "name": "stdout",
     "output_type": "stream",
     "text": [
      "Time:. {'res': 'ok', 'train_time': 4.671455383300781} min.\n"
     ]
    }
   ],
   "source": [
    "# 学習\n",
    "client = WebQoreClient(username, password, endpoint=endpoint)\n",
    "time_ = client.regression_train(X_train2, y_train)\n",
    "print('Time:.', time_, 'min.')"
   ]
  },
  {
   "cell_type": "code",
   "execution_count": 19,
   "metadata": {},
   "outputs": [],
   "source": [
    "# 予測\n",
    "res = client.regression_predict(X_test2)"
   ]
  },
  {
   "cell_type": "code",
   "execution_count": 20,
   "metadata": {},
   "outputs": [
    {
     "name": "stdout",
     "output_type": "stream",
     "text": [
      "206.30002139778367\n"
     ]
    },
    {
     "data": {
      "image/png": "[encoded data removed]",
      "text/plain": [
       "<Figure size 921.6x345.6 with 1 Axes>"
      ]
     },
     "metadata": {
      "needs_background": "light"
     },
     "output_type": "display_data"
    }
   ],
   "source": [
    "# 評価\n",
    "from sklearn.metrics import mean_squared_error\n",
    "\n",
    "plt.plot(res['Y'],  figure=plt.figure(figsize=(12.8, 4.8)))\n",
    "plt.plot(y_test)\n",
    "\n",
    "# 平均平方二乗誤差を求める(小さい方が良く予測できている)\n",
    "rmse = np.sqrt(mean_squared_error(y_test, res['Y']))\n",
    "print(rmse)"
   ]
  },
  {
   "cell_type": "code",
   "execution_count": 58,
   "metadata": {},
   "outputs": [],
   "source": [
    "# TODO: 予測データを使って任意の時間tの予測をしたい\n",
    "# ref. https://www.atmarkit.co.jp/ait/articles/1804/26/news150.html"
   ]
  },
  {
   "cell_type": "code",
   "execution_count": null,
   "metadata": {},
   "outputs": [],
   "source": []
  }
 ],
 "metadata": {
  "kernelspec": {
   "display_name": "Python 3",
   "language": "python",
   "name": "python3"
  },
  "language_info": {
   "codemirror_mode": {
    "name": "ipython",
    "version": 3
   },
   "file_extension": ".py",
   "mimetype": "text/x-python",
   "name": "python",
   "nbconvert_exporter": "python",
   "pygments_lexer": "ipython3",
   "version": "3.7.3"
  }
 },
 "nbformat": 4,
 "nbformat_minor": 2
}
